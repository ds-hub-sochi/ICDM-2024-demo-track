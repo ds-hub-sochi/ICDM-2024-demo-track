{
 "cells": [
  {
   "cell_type": "code",
   "execution_count": 17,
   "metadata": {},
   "outputs": [],
   "source": [
    "import client_lib\n",
    "# job = client_lib.ImageBuildJob(\n",
    "#     # Один из доступных образов с постфиксом a100\n",
    "#     from_image='cr.msk.sbercloud.ru/aicloud-base-images/cuda11.1-torch1.9.1-py39:0.0.36',\n",
    "# #     from_image=\"cr.msk.sbercloud.ru/aicloud-base-images/cuda11.8-pt2:0.0.33\",\n",
    "#     # файл с зависимостями для кастомного образа\n",
    "#     requirements_file='/home/jovyan/people/tulenkov/jobs/requirements.txt',\n",
    "# )\n",
    "\n",
    "# job.submit()"
   ]
  },
  {
   "cell_type": "code",
   "execution_count": 20,
   "metadata": {},
   "outputs": [],
   "source": [
    "# запуск джобы:\n",
    "num_nodes = 2\n",
    "num_gpu_per_node = 8\n",
    "\n",
    "imagen_run = client_lib.Job(\n",
    "    base_image='cr.msk.sbercloud.ru/87922533-0d89-4569-899d-9131c1eae317/job-custom-image-dd75b0',\n",
    "    script='/home/jovyan/murtazin/slt_mae/run_class_finetuning.py',\n",
    "    flags={\n",
    "        'model': 'vit_large_patch16_224',\n",
    "        'data_set': 'SLOVO',\n",
    "        'nb_classes': 1001,\n",
    "        'data_path': '/home/jovyan/murtazin/datasets/slovo/all_videos',\n",
    "        'anno_path': '/home/jovyan/murtazin/datasets/slovo',\n",
    "        'finetune': '/home/jovyan/murtazin/slt_mae/ckpts/checkpoint-1659.pth',\n",
    "        'log_dir': '/home/jovyan/murtazin/slt_mae/workdirs/run_job_test',\n",
    "        'output_dir': '/home/jovyan/murtazin/slt_mae/workdirs/run_job_test',\n",
    "        'spatial_idx': 1,\n",
    "        'sampling_type': 'circle',\n",
    "        'batch_size': 4,\n",
    "        'num_sample': 2,\n",
    "        'input_size': 224,\n",
    "        'short_side_size': 224,\n",
    "        'save_ckpt_freq': 10,\n",
    "        'num_frames': 16,\n",
    "        'sampling_rate': 4,\n",
    "        'opt': 'adamw',\n",
    "        'lr': 1e-3,\n",
    "        'weight_decay': 0.05,\n",
    "        'epochs': 35 ,\n",
    "        'test_num_segment': 5,\n",
    "        'test_num_crop': 3,\n",
    "    },\n",
    "    n_workers=num_nodes, instance_type=f'a100.{num_gpu_per_node}gpu', type='pytorch2', region='SR003')"
   ]
  },
  {
   "cell_type": "code",
   "execution_count": 21,
   "metadata": {},
   "outputs": [
    {
     "data": {
      "text/plain": [
       "'Job \"lm-mpi-job-86aa769c-85f0-4f5d-be7d-852fa3e2ed66\" created.'"
      ]
     },
     "execution_count": 21,
     "metadata": {},
     "output_type": "execute_result"
    }
   ],
   "source": [
    "imagen_run.submit()"
   ]
  },
  {
   "cell_type": "code",
   "execution_count": 23,
   "metadata": {},
   "outputs": [
    {
     "name": "stdout",
     "output_type": "stream",
     "text": [
      "[<RegionMT.DGX2_MT: 'DGX2-MT'>, <RegionMT.A100_MT: 'A100-MT'>, <RegionMT.SR002_MT: 'SR002-MT'>, <RegionMT.CCE_MT: 'CCE-MT'>, <RegionMT.SR003: 'SR003'>, <RegionMT.SR004: 'SR004'>, <RegionMT.SR005: 'SR005'>, <RegionMT.DGX2_MT_001: 'DGX2-MT-001'>]\n",
      "[<RegionINF.DGX2_INF_001: 'DGX2-INF-001'>, <RegionINF.CCE_INF: 'CCE-INF'>]\n",
      "[<ClusterType.MT: 'MT'>, <ClusterType.INF: 'INF'>]\n",
      "[<ImageType.CUSTOM: 'CUSTOM'>, <ImageType.DATAHUB: 'DATAHUB'>, <ImageType.REGION_SPECIFIC: 'REGION_SPECIFIC'>]\n"
     ]
    }
   ],
   "source": [
    "print(list(client_lib.RegionMT))\n",
    "print(list(client_lib.RegionINF))\n",
    "print(list(client_lib.ClusterType))\n",
    "print(list(client_lib.ImageType))"
   ]
  },
  {
   "cell_type": "code",
   "execution_count": 33,
   "metadata": {},
   "outputs": [
    {
     "ename": "ValueError",
     "evalue": "Bad 'SR003' value for cluster_type. Please consider using client_lib.ClusterType instead of the string value. Available values: <ClusterType.MT: 'MT'>, <ClusterType.INF: 'INF'>",
     "output_type": "error",
     "traceback": [
      "\u001b[0;31m---------------------------------------------------------------------------\u001b[0m",
      "\u001b[0;31mValueError\u001b[0m                                Traceback (most recent call last)",
      "\u001b[0;31mValueError\u001b[0m: 'SR003' is not a valid ClusterType",
      "\nDuring handling of the above exception, another exception occurred:\n",
      "\u001b[0;31mValueError\u001b[0m                                Traceback (most recent call last)",
      "\u001b[0;32m/home/user/conda/lib/python3.7/client_lib.py\u001b[0m in \u001b[0;36m_validate_cluster_type\u001b[0;34m(cluster_type)\u001b[0m\n\u001b[1;32m   1025\u001b[0m     \u001b[0;32mtry\u001b[0m\u001b[0;34m:\u001b[0m\u001b[0;34m\u001b[0m\u001b[0;34m\u001b[0m\u001b[0m\n\u001b[0;32m-> 1026\u001b[0;31m         \u001b[0;32mreturn\u001b[0m \u001b[0mClusterType\u001b[0m\u001b[0;34m(\u001b[0m\u001b[0mcluster_type\u001b[0m\u001b[0;34m)\u001b[0m\u001b[0;34m\u001b[0m\u001b[0;34m\u001b[0m\u001b[0m\n\u001b[0m\u001b[1;32m   1027\u001b[0m     \u001b[0;32mexcept\u001b[0m \u001b[0mValueError\u001b[0m \u001b[0;32mas\u001b[0m \u001b[0me\u001b[0m\u001b[0;34m:\u001b[0m\u001b[0;34m\u001b[0m\u001b[0;34m\u001b[0m\u001b[0m\n",
      "\u001b[0;32m/home/user/conda/lib/python3.7/enum.py\u001b[0m in \u001b[0;36m__call__\u001b[0;34m(cls, value, names, module, qualname, type, start)\u001b[0m\n\u001b[1;32m    314\u001b[0m         \u001b[0;32mif\u001b[0m \u001b[0mnames\u001b[0m \u001b[0;32mis\u001b[0m \u001b[0;32mNone\u001b[0m\u001b[0;34m:\u001b[0m  \u001b[0;31m# simple value lookup\u001b[0m\u001b[0;34m\u001b[0m\u001b[0;34m\u001b[0m\u001b[0m\n\u001b[0;32m--> 315\u001b[0;31m             \u001b[0;32mreturn\u001b[0m \u001b[0mcls\u001b[0m\u001b[0;34m.\u001b[0m\u001b[0m__new__\u001b[0m\u001b[0;34m(\u001b[0m\u001b[0mcls\u001b[0m\u001b[0;34m,\u001b[0m \u001b[0mvalue\u001b[0m\u001b[0;34m)\u001b[0m\u001b[0;34m\u001b[0m\u001b[0;34m\u001b[0m\u001b[0m\n\u001b[0m\u001b[1;32m    316\u001b[0m         \u001b[0;31m# otherwise, functional API: we're creating a new Enum type\u001b[0m\u001b[0;34m\u001b[0m\u001b[0;34m\u001b[0m\u001b[0;34m\u001b[0m\u001b[0m\n",
      "\u001b[0;32m/home/user/conda/lib/python3.7/enum.py\u001b[0m in \u001b[0;36m__new__\u001b[0;34m(cls, value)\u001b[0m\n\u001b[1;32m    568\u001b[0m             \u001b[0mexc\u001b[0m\u001b[0;34m.\u001b[0m\u001b[0m__context__\u001b[0m \u001b[0;34m=\u001b[0m \u001b[0mve_exc\u001b[0m\u001b[0;34m\u001b[0m\u001b[0;34m\u001b[0m\u001b[0m\n\u001b[0;32m--> 569\u001b[0;31m             \u001b[0;32mraise\u001b[0m \u001b[0mexc\u001b[0m\u001b[0;34m\u001b[0m\u001b[0;34m\u001b[0m\u001b[0m\n\u001b[0m\u001b[1;32m    570\u001b[0m \u001b[0;34m\u001b[0m\u001b[0m\n",
      "\u001b[0;32m/home/user/conda/lib/python3.7/enum.py\u001b[0m in \u001b[0;36m__new__\u001b[0;34m(cls, value)\u001b[0m\n\u001b[1;32m    552\u001b[0m             \u001b[0mexc\u001b[0m \u001b[0;34m=\u001b[0m \u001b[0;32mNone\u001b[0m\u001b[0;34m\u001b[0m\u001b[0;34m\u001b[0m\u001b[0m\n\u001b[0;32m--> 553\u001b[0;31m             \u001b[0mresult\u001b[0m \u001b[0;34m=\u001b[0m \u001b[0mcls\u001b[0m\u001b[0;34m.\u001b[0m\u001b[0m_missing_\u001b[0m\u001b[0;34m(\u001b[0m\u001b[0mvalue\u001b[0m\u001b[0;34m)\u001b[0m\u001b[0;34m\u001b[0m\u001b[0;34m\u001b[0m\u001b[0m\n\u001b[0m\u001b[1;32m    554\u001b[0m         \u001b[0;32mexcept\u001b[0m \u001b[0mException\u001b[0m \u001b[0;32mas\u001b[0m \u001b[0me\u001b[0m\u001b[0;34m:\u001b[0m\u001b[0;34m\u001b[0m\u001b[0;34m\u001b[0m\u001b[0m\n",
      "\u001b[0;32m/home/user/conda/lib/python3.7/enum.py\u001b[0m in \u001b[0;36m_missing_\u001b[0;34m(cls, value)\u001b[0m\n\u001b[1;32m    581\u001b[0m     \u001b[0;32mdef\u001b[0m \u001b[0m_missing_\u001b[0m\u001b[0;34m(\u001b[0m\u001b[0mcls\u001b[0m\u001b[0;34m,\u001b[0m \u001b[0mvalue\u001b[0m\u001b[0;34m)\u001b[0m\u001b[0;34m:\u001b[0m\u001b[0;34m\u001b[0m\u001b[0;34m\u001b[0m\u001b[0m\n\u001b[0;32m--> 582\u001b[0;31m         \u001b[0;32mraise\u001b[0m \u001b[0mValueError\u001b[0m\u001b[0;34m(\u001b[0m\u001b[0;34m\"%r is not a valid %s\"\u001b[0m \u001b[0;34m%\u001b[0m \u001b[0;34m(\u001b[0m\u001b[0mvalue\u001b[0m\u001b[0;34m,\u001b[0m \u001b[0mcls\u001b[0m\u001b[0;34m.\u001b[0m\u001b[0m__name__\u001b[0m\u001b[0;34m)\u001b[0m\u001b[0;34m)\u001b[0m\u001b[0;34m\u001b[0m\u001b[0;34m\u001b[0m\u001b[0m\n\u001b[0m\u001b[1;32m    583\u001b[0m \u001b[0;34m\u001b[0m\u001b[0m\n",
      "\u001b[0;31mValueError\u001b[0m: 'SR003' is not a valid ClusterType",
      "\nThe above exception was the direct cause of the following exception:\n",
      "\u001b[0;31mValueError\u001b[0m                                Traceback (most recent call last)",
      "\u001b[0;32m/tmp/ipykernel_2924087/2882473805.py\u001b[0m in \u001b[0;36m<module>\u001b[0;34m\u001b[0m\n\u001b[0;32m----> 1\u001b[0;31m \u001b[0mclient_lib\u001b[0m\u001b[0;34m.\u001b[0m\u001b[0mget_instance_types\u001b[0m\u001b[0;34m(\u001b[0m\u001b[0;34m'SR003'\u001b[0m\u001b[0;34m)\u001b[0m\u001b[0;34m\u001b[0m\u001b[0;34m\u001b[0m\u001b[0m\n\u001b[0m",
      "\u001b[0;32m/home/user/conda/lib/python3.7/client_lib.py\u001b[0m in \u001b[0;36mget_instance_types\u001b[0;34m(cluster_type)\u001b[0m\n\u001b[1;32m    914\u001b[0m     \u001b[0mCommon\u001b[0m \u001b[0muse\u001b[0m \u001b[0mcase\u001b[0m\u001b[0;34m:\u001b[0m \u001b[0mget\u001b[0m \u001b[0ma\u001b[0m \u001b[0mlist\u001b[0m \u001b[0mof\u001b[0m \u001b[0mavailable\u001b[0m \u001b[0minstance_types\u001b[0m \u001b[0mto\u001b[0m \u001b[0mrun\u001b[0m \u001b[0mmodel\u001b[0m \u001b[0mtraining\u001b[0m \u001b[0mjobs\u001b[0m \u001b[0;34m(\u001b[0m\u001b[0msee\u001b[0m \u001b[0mJob\u001b[0m\u001b[0;34m)\u001b[0m\u001b[0;34m.\u001b[0m\u001b[0;34m\u001b[0m\u001b[0;34m\u001b[0m\u001b[0m\n\u001b[1;32m    915\u001b[0m     \"\"\"\n\u001b[0;32m--> 916\u001b[0;31m     \u001b[0mconfig_df\u001b[0m \u001b[0;34m=\u001b[0m \u001b[0mget_cluster_config\u001b[0m\u001b[0;34m(\u001b[0m\u001b[0mcluster_type\u001b[0m\u001b[0;34m,\u001b[0m \u001b[0mas_frame\u001b[0m\u001b[0;34m=\u001b[0m\u001b[0;32mTrue\u001b[0m\u001b[0;34m)\u001b[0m\u001b[0;34m\u001b[0m\u001b[0;34m\u001b[0m\u001b[0m\n\u001b[0m\u001b[1;32m    917\u001b[0m     columns = {\n\u001b[1;32m    918\u001b[0m         \u001b[0;34m\"region_key\"\u001b[0m\u001b[0;34m:\u001b[0m \u001b[0;34m\"region\"\u001b[0m\u001b[0;34m,\u001b[0m\u001b[0;34m\u001b[0m\u001b[0;34m\u001b[0m\u001b[0m\n",
      "\u001b[0;32m/home/user/conda/lib/python3.7/client_lib.py\u001b[0m in \u001b[0;36mget_cluster_config\u001b[0;34m(cluster_type, as_frame)\u001b[0m\n\u001b[1;32m    987\u001b[0m     \u001b[0mabout\u001b[0m \u001b[0mthe\u001b[0m \u001b[0mavailable\u001b[0m \u001b[0mconfigurations\u001b[0m\u001b[0;34m,\u001b[0m \u001b[0muse\u001b[0m \u001b[0mget_cluster_config\u001b[0m\u001b[0;34m(\u001b[0m\u001b[0;34m...\u001b[0m\u001b[0;34m,\u001b[0m \u001b[0mas_frame\u001b[0m\u001b[0;34m=\u001b[0m\u001b[0;32mFalse\u001b[0m\u001b[0;34m)\u001b[0m\u001b[0;34m.\u001b[0m\u001b[0;34m\u001b[0m\u001b[0;34m\u001b[0m\u001b[0m\n\u001b[1;32m    988\u001b[0m     \"\"\"\n\u001b[0;32m--> 989\u001b[0;31m     \u001b[0mcluster_type\u001b[0m \u001b[0;34m=\u001b[0m \u001b[0m_validate_cluster_type\u001b[0m\u001b[0;34m(\u001b[0m\u001b[0mcluster_type\u001b[0m\u001b[0;34m)\u001b[0m\u001b[0;34m\u001b[0m\u001b[0;34m\u001b[0m\u001b[0m\n\u001b[0m\u001b[1;32m    990\u001b[0m     \u001b[0mraw_config\u001b[0m \u001b[0;34m=\u001b[0m \u001b[0m_get_raw_cluster_config\u001b[0m\u001b[0;34m(\u001b[0m\u001b[0mcluster_type\u001b[0m\u001b[0;34m)\u001b[0m\u001b[0;34m\u001b[0m\u001b[0;34m\u001b[0m\u001b[0m\n\u001b[1;32m    991\u001b[0m     \u001b[0;32mif\u001b[0m \u001b[0;32mnot\u001b[0m \u001b[0mas_frame\u001b[0m\u001b[0;34m:\u001b[0m\u001b[0;34m\u001b[0m\u001b[0;34m\u001b[0m\u001b[0m\n",
      "\u001b[0;32m/home/user/conda/lib/python3.7/client_lib.py\u001b[0m in \u001b[0;36m_validate_cluster_type\u001b[0;34m(cluster_type)\u001b[0m\n\u001b[1;32m   1030\u001b[0m             \u001b[0;34mf\"Please consider using client_lib.ClusterType instead of the string value. \"\u001b[0m\u001b[0;34m\u001b[0m\u001b[0;34m\u001b[0m\u001b[0m\n\u001b[1;32m   1031\u001b[0m             \u001b[0;34mf\"Available values: {', '.join(repr(i) for i in ClusterType)}\"\u001b[0m\u001b[0;34m\u001b[0m\u001b[0;34m\u001b[0m\u001b[0m\n\u001b[0;32m-> 1032\u001b[0;31m         ) from e\n\u001b[0m\u001b[1;32m   1033\u001b[0m \u001b[0;34m\u001b[0m\u001b[0m\n\u001b[1;32m   1034\u001b[0m \u001b[0;34m\u001b[0m\u001b[0m\n",
      "\u001b[0;31mValueError\u001b[0m: Bad 'SR003' value for cluster_type. Please consider using client_lib.ClusterType instead of the string value. Available values: <ClusterType.MT: 'MT'>, <ClusterType.INF: 'INF'>"
     ]
    }
   ],
   "source": [
    "client_lib.get_instance_types('SR003')"
   ]
  },
  {
   "cell_type": "code",
   "execution_count": null,
   "metadata": {},
   "outputs": [],
   "source": []
  }
 ],
 "metadata": {
  "kernelspec": {
   "display_name": "Python 3",
   "language": "python",
   "name": "python3"
  },
  "language_info": {
   "codemirror_mode": {
    "name": "ipython",
    "version": 3
   },
   "file_extension": ".py",
   "mimetype": "text/x-python",
   "name": "python",
   "nbconvert_exporter": "python",
   "pygments_lexer": "ipython3",
   "version": "3.7.12"
  }
 },
 "nbformat": 4,
 "nbformat_minor": 4
}
